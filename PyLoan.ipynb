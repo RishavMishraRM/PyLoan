{
 "cells": [
  {
   "cell_type": "code",
   "execution_count": 1,
   "id": "8eb07ca0",
   "metadata": {},
   "outputs": [
    {
     "name": "stdout",
     "output_type": "stream",
     "text": [
      "Requirement already satisfied: pyloan in c:\\users\\rishav\\anaconda3\\envs\\tensorflow_env\\lib\\site-packages (0.0.1.8)"
     ]
    },
    {
     "name": "stderr",
     "output_type": "stream",
     "text": [
      "WARNING: Ignoring invalid distribution -ython (c:\\users\\rishav\\anaconda3\\envs\\tensorflow_env\\lib\\site-packages)\n",
      "WARNING: Ignoring invalid distribution -illow (c:\\users\\rishav\\anaconda3\\envs\\tensorflow_env\\lib\\site-packages)\n",
      "WARNING: Ignoring invalid distribution -ython (c:\\users\\rishav\\anaconda3\\envs\\tensorflow_env\\lib\\site-packages)\n",
      "WARNING: Ignoring invalid distribution -illow (c:\\users\\rishav\\anaconda3\\envs\\tensorflow_env\\lib\\site-packages)\n",
      "WARNING: Ignoring invalid distribution -ython (c:\\users\\rishav\\anaconda3\\envs\\tensorflow_env\\lib\\site-packages)\n",
      "WARNING: Ignoring invalid distribution -illow (c:\\users\\rishav\\anaconda3\\envs\\tensorflow_env\\lib\\site-packages)\n",
      "WARNING: Ignoring invalid distribution -ython (c:\\users\\rishav\\anaconda3\\envs\\tensorflow_env\\lib\\site-packages)\n",
      "WARNING: Ignoring invalid distribution -illow (c:\\users\\rishav\\anaconda3\\envs\\tensorflow_env\\lib\\site-packages)\n",
      "WARNING: Ignoring invalid distribution -ython (c:\\users\\rishav\\anaconda3\\envs\\tensorflow_env\\lib\\site-packages)\n",
      "WARNING: Ignoring invalid distribution -illow (c:\\users\\rishav\\anaconda3\\envs\\tensorflow_env\\lib\\site-packages)\n",
      "WARNING: Ignoring invalid distribution -ython (c:\\users\\rishav\\anaconda3\\envs\\tensorflow_env\\lib\\site-packages)\n",
      "WARNING: Ignoring invalid distribution -illow (c:\\users\\rishav\\anaconda3\\envs\\tensorflow_env\\lib\\site-packages)\n"
     ]
    },
    {
     "name": "stdout",
     "output_type": "stream",
     "text": [
      "\n"
     ]
    }
   ],
   "source": [
    "!pip install pyloan"
   ]
  },
  {
   "cell_type": "code",
   "execution_count": 2,
   "id": "a689003c",
   "metadata": {},
   "outputs": [],
   "source": [
    "from pyloan import pyloan\n",
    "import pandas as pd"
   ]
  },
  {
   "cell_type": "code",
   "execution_count": 3,
   "id": "13558c83",
   "metadata": {},
   "outputs": [],
   "source": [
    "loan = pyloan.Loan(loan_amount=160000,interest_rate=1.1,loan_term=10,start_date='2020-06-15',payment_amount=888.33)"
   ]
  },
  {
   "cell_type": "code",
   "execution_count": 4,
   "id": "18001c19",
   "metadata": {},
   "outputs": [],
   "source": [
    "payment_schedule = loan.get_payment_schedule()"
   ]
  },
  {
   "cell_type": "code",
   "execution_count": 5,
   "id": "03ea74dd",
   "metadata": {},
   "outputs": [],
   "source": [
    "df=pd.DataFrame.from_records(loan.get_payment_schedule(),columns=pyloan.Payment._fields)"
   ]
  },
  {
   "cell_type": "code",
   "execution_count": 6,
   "id": "6319b7c6",
   "metadata": {},
   "outputs": [
    {
     "data": {
      "text/html": [
       "<div>\n",
       "<style scoped>\n",
       "    .dataframe tbody tr th:only-of-type {\n",
       "        vertical-align: middle;\n",
       "    }\n",
       "\n",
       "    .dataframe tbody tr th {\n",
       "        vertical-align: top;\n",
       "    }\n",
       "\n",
       "    .dataframe thead th {\n",
       "        text-align: right;\n",
       "    }\n",
       "</style>\n",
       "<table border=\"1\" class=\"dataframe\">\n",
       "  <thead>\n",
       "    <tr style=\"text-align: right;\">\n",
       "      <th></th>\n",
       "      <th>payment_id</th>\n",
       "      <th>date</th>\n",
       "      <th>payment_amount</th>\n",
       "      <th>interest_amount</th>\n",
       "      <th>principal_amount</th>\n",
       "      <th>special_principal_amount</th>\n",
       "      <th>total_principal_amount</th>\n",
       "      <th>loan_balance_amount</th>\n",
       "    </tr>\n",
       "  </thead>\n",
       "  <tbody>\n",
       "    <tr>\n",
       "      <th>0</th>\n",
       "      <td>0</td>\n",
       "      <td>2020-06-15</td>\n",
       "      <td>0.00</td>\n",
       "      <td>0.00</td>\n",
       "      <td>0.00</td>\n",
       "      <td>0.00</td>\n",
       "      <td>0.00</td>\n",
       "      <td>160000.00</td>\n",
       "    </tr>\n",
       "    <tr>\n",
       "      <th>1</th>\n",
       "      <td>1</td>\n",
       "      <td>2020-06-30</td>\n",
       "      <td>888.33</td>\n",
       "      <td>73.33</td>\n",
       "      <td>815.00</td>\n",
       "      <td>0.00</td>\n",
       "      <td>815.00</td>\n",
       "      <td>159185.00</td>\n",
       "    </tr>\n",
       "    <tr>\n",
       "      <th>2</th>\n",
       "      <td>2</td>\n",
       "      <td>2020-07-31</td>\n",
       "      <td>888.33</td>\n",
       "      <td>145.92</td>\n",
       "      <td>742.41</td>\n",
       "      <td>0.00</td>\n",
       "      <td>742.41</td>\n",
       "      <td>158442.59</td>\n",
       "    </tr>\n",
       "    <tr>\n",
       "      <th>3</th>\n",
       "      <td>3</td>\n",
       "      <td>2020-08-31</td>\n",
       "      <td>888.33</td>\n",
       "      <td>145.24</td>\n",
       "      <td>743.09</td>\n",
       "      <td>0.00</td>\n",
       "      <td>743.09</td>\n",
       "      <td>157699.50</td>\n",
       "    </tr>\n",
       "    <tr>\n",
       "      <th>4</th>\n",
       "      <td>4</td>\n",
       "      <td>2020-09-30</td>\n",
       "      <td>888.33</td>\n",
       "      <td>144.56</td>\n",
       "      <td>743.77</td>\n",
       "      <td>0.00</td>\n",
       "      <td>743.77</td>\n",
       "      <td>156955.73</td>\n",
       "    </tr>\n",
       "    <tr>\n",
       "      <th>...</th>\n",
       "      <td>...</td>\n",
       "      <td>...</td>\n",
       "      <td>...</td>\n",
       "      <td>...</td>\n",
       "      <td>...</td>\n",
       "      <td>...</td>\n",
       "      <td>...</td>\n",
       "      <td>...</td>\n",
       "    </tr>\n",
       "    <tr>\n",
       "      <th>116</th>\n",
       "      <td>116</td>\n",
       "      <td>2030-01-31</td>\n",
       "      <td>888.33</td>\n",
       "      <td>64.18</td>\n",
       "      <td>824.15</td>\n",
       "      <td>0.00</td>\n",
       "      <td>824.15</td>\n",
       "      <td>69188.33</td>\n",
       "    </tr>\n",
       "    <tr>\n",
       "      <th>117</th>\n",
       "      <td>117</td>\n",
       "      <td>2030-02-28</td>\n",
       "      <td>888.33</td>\n",
       "      <td>59.19</td>\n",
       "      <td>829.14</td>\n",
       "      <td>0.00</td>\n",
       "      <td>829.14</td>\n",
       "      <td>68359.19</td>\n",
       "    </tr>\n",
       "    <tr>\n",
       "      <th>118</th>\n",
       "      <td>118</td>\n",
       "      <td>2030-03-31</td>\n",
       "      <td>888.33</td>\n",
       "      <td>66.84</td>\n",
       "      <td>821.49</td>\n",
       "      <td>0.00</td>\n",
       "      <td>821.49</td>\n",
       "      <td>67537.70</td>\n",
       "    </tr>\n",
       "    <tr>\n",
       "      <th>119</th>\n",
       "      <td>119</td>\n",
       "      <td>2030-04-30</td>\n",
       "      <td>888.33</td>\n",
       "      <td>61.91</td>\n",
       "      <td>826.42</td>\n",
       "      <td>0.00</td>\n",
       "      <td>826.42</td>\n",
       "      <td>66711.28</td>\n",
       "    </tr>\n",
       "    <tr>\n",
       "      <th>120</th>\n",
       "      <td>120</td>\n",
       "      <td>2030-05-31</td>\n",
       "      <td>888.33</td>\n",
       "      <td>61.15</td>\n",
       "      <td>827.18</td>\n",
       "      <td>0.00</td>\n",
       "      <td>827.18</td>\n",
       "      <td>65884.10</td>\n",
       "    </tr>\n",
       "  </tbody>\n",
       "</table>\n",
       "<p>121 rows × 8 columns</p>\n",
       "</div>"
      ],
      "text/plain": [
       "     payment_id       date payment_amount interest_amount principal_amount  \\\n",
       "0             0 2020-06-15           0.00            0.00             0.00   \n",
       "1             1 2020-06-30         888.33           73.33           815.00   \n",
       "2             2 2020-07-31         888.33          145.92           742.41   \n",
       "3             3 2020-08-31         888.33          145.24           743.09   \n",
       "4             4 2020-09-30         888.33          144.56           743.77   \n",
       "..          ...        ...            ...             ...              ...   \n",
       "116         116 2030-01-31         888.33           64.18           824.15   \n",
       "117         117 2030-02-28         888.33           59.19           829.14   \n",
       "118         118 2030-03-31         888.33           66.84           821.49   \n",
       "119         119 2030-04-30         888.33           61.91           826.42   \n",
       "120         120 2030-05-31         888.33           61.15           827.18   \n",
       "\n",
       "    special_principal_amount total_principal_amount loan_balance_amount  \n",
       "0                       0.00                   0.00           160000.00  \n",
       "1                       0.00                 815.00           159185.00  \n",
       "2                       0.00                 742.41           158442.59  \n",
       "3                       0.00                 743.09           157699.50  \n",
       "4                       0.00                 743.77           156955.73  \n",
       "..                       ...                    ...                 ...  \n",
       "116                     0.00                 824.15            69188.33  \n",
       "117                     0.00                 829.14            68359.19  \n",
       "118                     0.00                 821.49            67537.70  \n",
       "119                     0.00                 826.42            66711.28  \n",
       "120                     0.00                 827.18            65884.10  \n",
       "\n",
       "[121 rows x 8 columns]"
      ]
     },
     "execution_count": 6,
     "metadata": {},
     "output_type": "execute_result"
    }
   ],
   "source": [
    "df"
   ]
  },
  {
   "cell_type": "code",
   "execution_count": 7,
   "id": "5cb517fd",
   "metadata": {},
   "outputs": [],
   "source": [
    "loan = pyloan.Loan(loan_amount=160000,interest_rate=1.1,loan_term=10,start_date='2020-06-15',payment_amount=888.33,first_payment_date='2020-09-15',annual_payments=4)"
   ]
  },
  {
   "cell_type": "code",
   "execution_count": 8,
   "id": "3add1142",
   "metadata": {},
   "outputs": [],
   "source": [
    "loan.add_special_payment(payment_amount=5000,first_payment_date='2021-03-15',special_payment_term=8,annual_payments=1)"
   ]
  },
  {
   "cell_type": "code",
   "execution_count": 9,
   "id": "36f2fd5e",
   "metadata": {},
   "outputs": [],
   "source": [
    "payment_schedule = loan.get_payment_schedule()"
   ]
  },
  {
   "cell_type": "code",
   "execution_count": 10,
   "id": "5ecf6a26",
   "metadata": {},
   "outputs": [
    {
     "data": {
      "text/plain": [
       "[Payment(payment_id=0, date=datetime.datetime(2020, 6, 15, 0, 0), payment_amount=Decimal('0.00'), interest_amount=Decimal('0.00'), principal_amount=Decimal('0.00'), special_principal_amount=Decimal('0.00'), total_principal_amount=Decimal('0.00'), loan_balance_amount=Decimal('160000.00')),\n",
       " Payment(payment_id=1, date=datetime.datetime(2020, 9, 15, 0, 0), payment_amount=Decimal('888.33'), interest_amount=Decimal('440.00'), principal_amount=Decimal('448.33'), special_principal_amount=Decimal('0.00'), total_principal_amount=Decimal('448.33'), loan_balance_amount=Decimal('159551.67')),\n",
       " Payment(payment_id=2, date=datetime.datetime(2020, 12, 15, 0, 0), payment_amount=Decimal('888.33'), interest_amount=Decimal('438.77'), principal_amount=Decimal('449.56'), special_principal_amount=Decimal('0.00'), total_principal_amount=Decimal('449.56'), loan_balance_amount=Decimal('159102.11')),\n",
       " Payment(payment_id=3, date=datetime.datetime(2021, 3, 15, 0, 0), payment_amount=Decimal('5888.33'), interest_amount=Decimal('437.53'), principal_amount=Decimal('450.80'), special_principal_amount=Decimal('5000.00'), total_principal_amount=Decimal('5450.80'), loan_balance_amount=Decimal('153651.31')),\n",
       " Payment(payment_id=4, date=datetime.datetime(2021, 6, 15, 0, 0), payment_amount=Decimal('888.33'), interest_amount=Decimal('422.54'), principal_amount=Decimal('465.79'), special_principal_amount=Decimal('0.00'), total_principal_amount=Decimal('465.79'), loan_balance_amount=Decimal('153185.52')),\n",
       " Payment(payment_id=5, date=datetime.datetime(2021, 9, 15, 0, 0), payment_amount=Decimal('888.33'), interest_amount=Decimal('421.26'), principal_amount=Decimal('467.07'), special_principal_amount=Decimal('0.00'), total_principal_amount=Decimal('467.07'), loan_balance_amount=Decimal('152718.45')),\n",
       " Payment(payment_id=6, date=datetime.datetime(2021, 12, 15, 0, 0), payment_amount=Decimal('888.33'), interest_amount=Decimal('419.98'), principal_amount=Decimal('468.35'), special_principal_amount=Decimal('0.00'), total_principal_amount=Decimal('468.35'), loan_balance_amount=Decimal('152250.10')),\n",
       " Payment(payment_id=7, date=datetime.datetime(2022, 3, 15, 0, 0), payment_amount=Decimal('5888.33'), interest_amount=Decimal('418.69'), principal_amount=Decimal('469.64'), special_principal_amount=Decimal('5000.00'), total_principal_amount=Decimal('5469.64'), loan_balance_amount=Decimal('146780.46')),\n",
       " Payment(payment_id=8, date=datetime.datetime(2022, 6, 15, 0, 0), payment_amount=Decimal('888.33'), interest_amount=Decimal('403.65'), principal_amount=Decimal('484.68'), special_principal_amount=Decimal('0.00'), total_principal_amount=Decimal('484.68'), loan_balance_amount=Decimal('146295.78')),\n",
       " Payment(payment_id=9, date=datetime.datetime(2022, 9, 15, 0, 0), payment_amount=Decimal('888.33'), interest_amount=Decimal('402.31'), principal_amount=Decimal('486.02'), special_principal_amount=Decimal('0.00'), total_principal_amount=Decimal('486.02'), loan_balance_amount=Decimal('145809.76')),\n",
       " Payment(payment_id=10, date=datetime.datetime(2022, 12, 15, 0, 0), payment_amount=Decimal('888.33'), interest_amount=Decimal('400.98'), principal_amount=Decimal('487.35'), special_principal_amount=Decimal('0.00'), total_principal_amount=Decimal('487.35'), loan_balance_amount=Decimal('145322.41')),\n",
       " Payment(payment_id=11, date=datetime.datetime(2023, 3, 15, 0, 0), payment_amount=Decimal('5888.33'), interest_amount=Decimal('399.64'), principal_amount=Decimal('488.69'), special_principal_amount=Decimal('5000.00'), total_principal_amount=Decimal('5488.69'), loan_balance_amount=Decimal('139833.72')),\n",
       " Payment(payment_id=12, date=datetime.datetime(2023, 6, 15, 0, 0), payment_amount=Decimal('888.33'), interest_amount=Decimal('384.54'), principal_amount=Decimal('503.79'), special_principal_amount=Decimal('0.00'), total_principal_amount=Decimal('503.79'), loan_balance_amount=Decimal('139329.93')),\n",
       " Payment(payment_id=13, date=datetime.datetime(2023, 9, 15, 0, 0), payment_amount=Decimal('888.33'), interest_amount=Decimal('383.16'), principal_amount=Decimal('505.17'), special_principal_amount=Decimal('0.00'), total_principal_amount=Decimal('505.17'), loan_balance_amount=Decimal('138824.76')),\n",
       " Payment(payment_id=14, date=datetime.datetime(2023, 12, 15, 0, 0), payment_amount=Decimal('888.33'), interest_amount=Decimal('381.77'), principal_amount=Decimal('506.56'), special_principal_amount=Decimal('0.00'), total_principal_amount=Decimal('506.56'), loan_balance_amount=Decimal('138318.20')),\n",
       " Payment(payment_id=15, date=datetime.datetime(2024, 3, 15, 0, 0), payment_amount=Decimal('5888.33'), interest_amount=Decimal('380.38'), principal_amount=Decimal('507.95'), special_principal_amount=Decimal('5000.00'), total_principal_amount=Decimal('5507.95'), loan_balance_amount=Decimal('132810.25')),\n",
       " Payment(payment_id=16, date=datetime.datetime(2024, 6, 15, 0, 0), payment_amount=Decimal('888.33'), interest_amount=Decimal('365.23'), principal_amount=Decimal('523.10'), special_principal_amount=Decimal('0.00'), total_principal_amount=Decimal('523.10'), loan_balance_amount=Decimal('132287.15')),\n",
       " Payment(payment_id=17, date=datetime.datetime(2024, 9, 15, 0, 0), payment_amount=Decimal('888.33'), interest_amount=Decimal('363.79'), principal_amount=Decimal('524.54'), special_principal_amount=Decimal('0.00'), total_principal_amount=Decimal('524.54'), loan_balance_amount=Decimal('131762.61')),\n",
       " Payment(payment_id=18, date=datetime.datetime(2024, 12, 15, 0, 0), payment_amount=Decimal('888.33'), interest_amount=Decimal('362.35'), principal_amount=Decimal('525.98'), special_principal_amount=Decimal('0.00'), total_principal_amount=Decimal('525.98'), loan_balance_amount=Decimal('131236.63')),\n",
       " Payment(payment_id=19, date=datetime.datetime(2025, 3, 15, 0, 0), payment_amount=Decimal('5888.33'), interest_amount=Decimal('360.90'), principal_amount=Decimal('527.43'), special_principal_amount=Decimal('5000.00'), total_principal_amount=Decimal('5527.43'), loan_balance_amount=Decimal('125709.20')),\n",
       " Payment(payment_id=20, date=datetime.datetime(2025, 6, 15, 0, 0), payment_amount=Decimal('888.33'), interest_amount=Decimal('345.70'), principal_amount=Decimal('542.63'), special_principal_amount=Decimal('0.00'), total_principal_amount=Decimal('542.63'), loan_balance_amount=Decimal('125166.57')),\n",
       " Payment(payment_id=21, date=datetime.datetime(2025, 9, 15, 0, 0), payment_amount=Decimal('888.33'), interest_amount=Decimal('344.21'), principal_amount=Decimal('544.12'), special_principal_amount=Decimal('0.00'), total_principal_amount=Decimal('544.12'), loan_balance_amount=Decimal('124622.45')),\n",
       " Payment(payment_id=22, date=datetime.datetime(2025, 12, 15, 0, 0), payment_amount=Decimal('888.33'), interest_amount=Decimal('342.71'), principal_amount=Decimal('545.62'), special_principal_amount=Decimal('0.00'), total_principal_amount=Decimal('545.62'), loan_balance_amount=Decimal('124076.83')),\n",
       " Payment(payment_id=23, date=datetime.datetime(2026, 3, 15, 0, 0), payment_amount=Decimal('5888.33'), interest_amount=Decimal('341.21'), principal_amount=Decimal('547.12'), special_principal_amount=Decimal('5000.00'), total_principal_amount=Decimal('5547.12'), loan_balance_amount=Decimal('118529.71')),\n",
       " Payment(payment_id=24, date=datetime.datetime(2026, 6, 15, 0, 0), payment_amount=Decimal('888.33'), interest_amount=Decimal('325.96'), principal_amount=Decimal('562.37'), special_principal_amount=Decimal('0.00'), total_principal_amount=Decimal('562.37'), loan_balance_amount=Decimal('117967.34')),\n",
       " Payment(payment_id=25, date=datetime.datetime(2026, 9, 15, 0, 0), payment_amount=Decimal('888.33'), interest_amount=Decimal('324.41'), principal_amount=Decimal('563.92'), special_principal_amount=Decimal('0.00'), total_principal_amount=Decimal('563.92'), loan_balance_amount=Decimal('117403.42')),\n",
       " Payment(payment_id=26, date=datetime.datetime(2026, 12, 15, 0, 0), payment_amount=Decimal('888.33'), interest_amount=Decimal('322.86'), principal_amount=Decimal('565.47'), special_principal_amount=Decimal('0.00'), total_principal_amount=Decimal('565.47'), loan_balance_amount=Decimal('116837.95')),\n",
       " Payment(payment_id=27, date=datetime.datetime(2027, 3, 15, 0, 0), payment_amount=Decimal('5888.33'), interest_amount=Decimal('321.30'), principal_amount=Decimal('567.03'), special_principal_amount=Decimal('5000.00'), total_principal_amount=Decimal('5567.03'), loan_balance_amount=Decimal('111270.92')),\n",
       " Payment(payment_id=28, date=datetime.datetime(2027, 6, 15, 0, 0), payment_amount=Decimal('888.33'), interest_amount=Decimal('306.00'), principal_amount=Decimal('582.33'), special_principal_amount=Decimal('0.00'), total_principal_amount=Decimal('582.33'), loan_balance_amount=Decimal('110688.59')),\n",
       " Payment(payment_id=29, date=datetime.datetime(2027, 9, 15, 0, 0), payment_amount=Decimal('888.33'), interest_amount=Decimal('304.39'), principal_amount=Decimal('583.94'), special_principal_amount=Decimal('0.00'), total_principal_amount=Decimal('583.94'), loan_balance_amount=Decimal('110104.65')),\n",
       " Payment(payment_id=30, date=datetime.datetime(2027, 12, 15, 0, 0), payment_amount=Decimal('888.33'), interest_amount=Decimal('302.79'), principal_amount=Decimal('585.54'), special_principal_amount=Decimal('0.00'), total_principal_amount=Decimal('585.54'), loan_balance_amount=Decimal('109519.11')),\n",
       " Payment(payment_id=31, date=datetime.datetime(2028, 3, 15, 0, 0), payment_amount=Decimal('5888.33'), interest_amount=Decimal('301.18'), principal_amount=Decimal('587.15'), special_principal_amount=Decimal('5000.00'), total_principal_amount=Decimal('5587.15'), loan_balance_amount=Decimal('103931.96')),\n",
       " Payment(payment_id=32, date=datetime.datetime(2028, 6, 15, 0, 0), payment_amount=Decimal('888.33'), interest_amount=Decimal('285.81'), principal_amount=Decimal('602.52'), special_principal_amount=Decimal('0.00'), total_principal_amount=Decimal('602.52'), loan_balance_amount=Decimal('103329.44')),\n",
       " Payment(payment_id=33, date=datetime.datetime(2028, 9, 15, 0, 0), payment_amount=Decimal('888.33'), interest_amount=Decimal('284.16'), principal_amount=Decimal('604.17'), special_principal_amount=Decimal('0.00'), total_principal_amount=Decimal('604.17'), loan_balance_amount=Decimal('102725.27')),\n",
       " Payment(payment_id=34, date=datetime.datetime(2028, 12, 15, 0, 0), payment_amount=Decimal('888.33'), interest_amount=Decimal('282.49'), principal_amount=Decimal('605.84'), special_principal_amount=Decimal('0.00'), total_principal_amount=Decimal('605.84'), loan_balance_amount=Decimal('102119.43')),\n",
       " Payment(payment_id=35, date=datetime.datetime(2029, 3, 15, 0, 0), payment_amount=Decimal('888.33'), interest_amount=Decimal('280.83'), principal_amount=Decimal('607.50'), special_principal_amount=Decimal('0.00'), total_principal_amount=Decimal('607.50'), loan_balance_amount=Decimal('101511.93')),\n",
       " Payment(payment_id=36, date=datetime.datetime(2029, 6, 15, 0, 0), payment_amount=Decimal('888.33'), interest_amount=Decimal('279.16'), principal_amount=Decimal('609.17'), special_principal_amount=Decimal('0.00'), total_principal_amount=Decimal('609.17'), loan_balance_amount=Decimal('100902.76')),\n",
       " Payment(payment_id=37, date=datetime.datetime(2029, 9, 15, 0, 0), payment_amount=Decimal('888.33'), interest_amount=Decimal('277.48'), principal_amount=Decimal('610.85'), special_principal_amount=Decimal('0.00'), total_principal_amount=Decimal('610.85'), loan_balance_amount=Decimal('100291.91')),\n",
       " Payment(payment_id=38, date=datetime.datetime(2029, 12, 15, 0, 0), payment_amount=Decimal('888.33'), interest_amount=Decimal('275.80'), principal_amount=Decimal('612.53'), special_principal_amount=Decimal('0.00'), total_principal_amount=Decimal('612.53'), loan_balance_amount=Decimal('99679.38')),\n",
       " Payment(payment_id=39, date=datetime.datetime(2030, 3, 15, 0, 0), payment_amount=Decimal('888.33'), interest_amount=Decimal('274.12'), principal_amount=Decimal('614.21'), special_principal_amount=Decimal('0.00'), total_principal_amount=Decimal('614.21'), loan_balance_amount=Decimal('99065.17')),\n",
       " Payment(payment_id=40, date=datetime.datetime(2030, 6, 15, 0, 0), payment_amount=Decimal('888.33'), interest_amount=Decimal('272.43'), principal_amount=Decimal('615.90'), special_principal_amount=Decimal('0.00'), total_principal_amount=Decimal('615.90'), loan_balance_amount=Decimal('98449.27'))]"
      ]
     },
     "execution_count": 10,
     "metadata": {},
     "output_type": "execute_result"
    }
   ],
   "source": [
    "payment_schedule"
   ]
  },
  {
   "cell_type": "code",
   "execution_count": null,
   "id": "e1885345",
   "metadata": {},
   "outputs": [],
   "source": []
  }
 ],
 "metadata": {
  "kernelspec": {
   "display_name": "Python 3",
   "language": "python",
   "name": "python3"
  },
  "language_info": {
   "codemirror_mode": {
    "name": "ipython",
    "version": 3
   },
   "file_extension": ".py",
   "mimetype": "text/x-python",
   "name": "python",
   "nbconvert_exporter": "python",
   "pygments_lexer": "ipython3",
   "version": "3.7.10"
  }
 },
 "nbformat": 4,
 "nbformat_minor": 5
}
